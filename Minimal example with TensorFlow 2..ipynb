{
 "cells": [
  {
   "cell_type": "code",
   "execution_count": 1,
   "id": "21374f18",
   "metadata": {},
   "outputs": [],
   "source": [
    "import numpy as np\n",
    "import matplotlib.pyplot as plt\n",
    "import tensorflow as tf"
   ]
  },
  {
   "cell_type": "code",
   "execution_count": 2,
   "id": "a56e8081",
   "metadata": {},
   "outputs": [],
   "source": [
    "observations = 100000\n",
    "xs = np.random.uniform(-10,10,(observations,1))\n",
    "zs = np.random.uniform(-10,10,(observations,1))\n",
    "generated_inputs = np.column_stack((xs,zs))\n",
    "\n",
    "noise = np.random.uniform(-1,1,(observations,1))\n",
    "generated_targets = 2*xs -5*zs + 7 + noise\n",
    "\n",
    "np.savez('TF_intro',inputs=generated_inputs,targets=generated_targets)\n"
   ]
  },
  {
   "cell_type": "code",
   "execution_count": 3,
   "id": "6f367229",
   "metadata": {},
   "outputs": [],
   "source": [
    "training_data = np.load(\"C:/Users/LENOVO/Desktop/Data Science Course/TF_intro.npz\")"
   ]
  },
  {
   "cell_type": "code",
   "execution_count": 4,
   "id": "04bf40f9",
   "metadata": {},
   "outputs": [
    {
     "name": "stdout",
     "output_type": "stream",
     "text": [
      "Train on 100000 samples\n",
      "Epoch 1/100\n",
      "100000/100000 - 4s - loss: 8.4557\n",
      "Epoch 2/100\n",
      "100000/100000 - 5s - loss: 2.6384\n",
      "Epoch 3/100\n",
      "100000/100000 - 4s - loss: 0.3969\n",
      "Epoch 4/100\n",
      "100000/100000 - 4s - loss: 0.1678\n",
      "Epoch 5/100\n",
      "100000/100000 - 5s - loss: 0.1667\n",
      "Epoch 6/100\n",
      "100000/100000 - 5s - loss: 0.1666\n",
      "Epoch 7/100\n",
      "100000/100000 - 4s - loss: 0.1666\n",
      "Epoch 8/100\n",
      "100000/100000 - 4s - loss: 0.1667\n",
      "Epoch 9/100\n",
      "100000/100000 - 4s - loss: 0.1667\n",
      "Epoch 10/100\n",
      "100000/100000 - 5s - loss: 0.1666\n",
      "Epoch 11/100\n",
      "100000/100000 - 5s - loss: 0.1666\n",
      "Epoch 12/100\n",
      "100000/100000 - 4s - loss: 0.1667\n",
      "Epoch 13/100\n",
      "100000/100000 - 5s - loss: 0.1667\n",
      "Epoch 14/100\n",
      "100000/100000 - 5s - loss: 0.1666\n",
      "Epoch 15/100\n",
      "100000/100000 - 4s - loss: 0.1667\n",
      "Epoch 16/100\n",
      "100000/100000 - 4s - loss: 0.1667\n",
      "Epoch 17/100\n",
      "100000/100000 - 4s - loss: 0.1667\n",
      "Epoch 18/100\n",
      "100000/100000 - 4s - loss: 0.1667\n",
      "Epoch 19/100\n",
      "100000/100000 - 5s - loss: 0.1667\n",
      "Epoch 20/100\n",
      "100000/100000 - 4s - loss: 0.1667\n",
      "Epoch 21/100\n",
      "100000/100000 - 4s - loss: 0.1667\n",
      "Epoch 22/100\n",
      "100000/100000 - 5s - loss: 0.1666\n",
      "Epoch 23/100\n",
      "100000/100000 - 4s - loss: 0.1667\n",
      "Epoch 24/100\n",
      "100000/100000 - 4s - loss: 0.1667\n",
      "Epoch 25/100\n",
      "100000/100000 - 5s - loss: 0.1667\n",
      "Epoch 26/100\n",
      "100000/100000 - 4s - loss: 0.1667\n",
      "Epoch 27/100\n",
      "100000/100000 - 5s - loss: 0.1667\n",
      "Epoch 28/100\n",
      "100000/100000 - 4s - loss: 0.1667\n",
      "Epoch 29/100\n",
      "100000/100000 - 4s - loss: 0.1667\n",
      "Epoch 30/100\n",
      "100000/100000 - 5s - loss: 0.1666\n",
      "Epoch 31/100\n",
      "100000/100000 - 4s - loss: 0.1666\n",
      "Epoch 32/100\n",
      "100000/100000 - 4s - loss: 0.1667\n",
      "Epoch 33/100\n",
      "100000/100000 - 5s - loss: 0.1667\n",
      "Epoch 34/100\n",
      "100000/100000 - 4s - loss: 0.1667\n",
      "Epoch 35/100\n",
      "100000/100000 - 4s - loss: 0.1667\n",
      "Epoch 36/100\n",
      "100000/100000 - 4s - loss: 0.1666\n",
      "Epoch 37/100\n",
      "100000/100000 - 4s - loss: 0.1667\n",
      "Epoch 38/100\n",
      "100000/100000 - 4s - loss: 0.1667\n",
      "Epoch 39/100\n",
      "100000/100000 - 4s - loss: 0.1667\n",
      "Epoch 40/100\n",
      "100000/100000 - 5s - loss: 0.1667\n",
      "Epoch 41/100\n",
      "100000/100000 - 5s - loss: 0.1667\n",
      "Epoch 42/100\n",
      "100000/100000 - 4s - loss: 0.1667\n",
      "Epoch 43/100\n",
      "100000/100000 - 4s - loss: 0.1667\n",
      "Epoch 44/100\n",
      "100000/100000 - 4s - loss: 0.1666\n",
      "Epoch 45/100\n",
      "100000/100000 - 5s - loss: 0.1666\n",
      "Epoch 46/100\n",
      "100000/100000 - 4s - loss: 0.1667\n",
      "Epoch 47/100\n",
      "100000/100000 - 4s - loss: 0.1667\n",
      "Epoch 48/100\n",
      "100000/100000 - 4s - loss: 0.1666\n",
      "Epoch 49/100\n",
      "100000/100000 - 5s - loss: 0.1667\n",
      "Epoch 50/100\n",
      "100000/100000 - 5s - loss: 0.1667\n",
      "Epoch 51/100\n",
      "100000/100000 - 4s - loss: 0.1666\n",
      "Epoch 52/100\n",
      "100000/100000 - 4s - loss: 0.1667\n",
      "Epoch 53/100\n",
      "100000/100000 - 4s - loss: 0.1666\n",
      "Epoch 54/100\n",
      "100000/100000 - 4s - loss: 0.1667\n",
      "Epoch 55/100\n",
      "100000/100000 - 4s - loss: 0.1666\n",
      "Epoch 56/100\n",
      "100000/100000 - 4s - loss: 0.1667\n",
      "Epoch 57/100\n",
      "100000/100000 - 4s - loss: 0.1667\n",
      "Epoch 58/100\n",
      "100000/100000 - 4s - loss: 0.1667\n",
      "Epoch 59/100\n",
      "100000/100000 - 5s - loss: 0.1667\n",
      "Epoch 60/100\n",
      "100000/100000 - 4s - loss: 0.1667\n",
      "Epoch 61/100\n",
      "100000/100000 - 5s - loss: 0.1666\n",
      "Epoch 62/100\n",
      "100000/100000 - 4s - loss: 0.1667\n",
      "Epoch 63/100\n",
      "100000/100000 - 5s - loss: 0.1666\n",
      "Epoch 64/100\n",
      "100000/100000 - 4s - loss: 0.1667\n",
      "Epoch 65/100\n",
      "100000/100000 - 4s - loss: 0.1667\n",
      "Epoch 66/100\n",
      "100000/100000 - 5s - loss: 0.1666\n",
      "Epoch 67/100\n",
      "100000/100000 - 5s - loss: 0.1667\n",
      "Epoch 68/100\n",
      "100000/100000 - 5s - loss: 0.1667\n",
      "Epoch 69/100\n",
      "100000/100000 - 4s - loss: 0.1667\n",
      "Epoch 70/100\n",
      "100000/100000 - 5s - loss: 0.1667\n",
      "Epoch 71/100\n",
      "100000/100000 - 4s - loss: 0.1667\n",
      "Epoch 72/100\n",
      "100000/100000 - 4s - loss: 0.1667\n",
      "Epoch 73/100\n",
      "100000/100000 - 5s - loss: 0.1666\n",
      "Epoch 74/100\n",
      "100000/100000 - 5s - loss: 0.1667\n",
      "Epoch 75/100\n",
      "100000/100000 - 4s - loss: 0.1667\n",
      "Epoch 76/100\n",
      "100000/100000 - 5s - loss: 0.1667\n",
      "Epoch 77/100\n",
      "100000/100000 - 5s - loss: 0.1667\n",
      "Epoch 78/100\n",
      "100000/100000 - 5s - loss: 0.1667\n",
      "Epoch 79/100\n",
      "100000/100000 - 5s - loss: 0.1666\n",
      "Epoch 80/100\n",
      "100000/100000 - 4s - loss: 0.1667\n",
      "Epoch 81/100\n",
      "100000/100000 - 4s - loss: 0.1667\n",
      "Epoch 82/100\n",
      "100000/100000 - 4s - loss: 0.1667\n",
      "Epoch 83/100\n",
      "100000/100000 - 3s - loss: 0.1666\n",
      "Epoch 84/100\n",
      "100000/100000 - 4s - loss: 0.1666\n",
      "Epoch 85/100\n",
      "100000/100000 - 5s - loss: 0.1666\n",
      "Epoch 86/100\n",
      "100000/100000 - 5s - loss: 0.1667\n",
      "Epoch 87/100\n",
      "100000/100000 - 4s - loss: 0.1667\n",
      "Epoch 88/100\n",
      "100000/100000 - 5s - loss: 0.1667\n",
      "Epoch 89/100\n",
      "100000/100000 - 4s - loss: 0.1667\n",
      "Epoch 90/100\n",
      "100000/100000 - 4s - loss: 0.1667\n",
      "Epoch 91/100\n",
      "100000/100000 - 4s - loss: 0.1667\n",
      "Epoch 92/100\n",
      "100000/100000 - 5s - loss: 0.1667\n",
      "Epoch 93/100\n",
      "100000/100000 - 4s - loss: 0.1667\n",
      "Epoch 94/100\n",
      "100000/100000 - 5s - loss: 0.1667\n",
      "Epoch 95/100\n",
      "100000/100000 - 5s - loss: 0.1667\n",
      "Epoch 96/100\n",
      "100000/100000 - 4s - loss: 0.1666\n",
      "Epoch 97/100\n",
      "100000/100000 - 4s - loss: 0.1667\n",
      "Epoch 98/100\n",
      "100000/100000 - 5s - loss: 0.1666\n",
      "Epoch 99/100\n",
      "100000/100000 - 5s - loss: 0.1667\n",
      "Epoch 100/100\n",
      "100000/100000 - 5s - loss: 0.1667\n"
     ]
    },
    {
     "data": {
      "text/plain": [
       "<tensorflow.python.keras.callbacks.History at 0x1d723769b38>"
      ]
     },
     "execution_count": 4,
     "metadata": {},
     "output_type": "execute_result"
    }
   ],
   "source": [
    "input_size = 2\n",
    "output_size = 1\n",
    "model = tf.keras.Sequential([\n",
    "    tf.keras.layers.Dense(output_size,\n",
    "                          kernel_initializer = tf.random_uniform_initializer(minval=-0.1,maxval=0.1),\n",
    "                          bias_initializer=tf.random_uniform_initializer(minval=-0.1,maxval=0.1))#takes the inputs provided to the model and calculates the dot product of input and weights and adds bias\n",
    "])#stack layers ,specifies how we lay down our model\n",
    "custom_optimizer = tf.keras.optimizers.SGD(learning_rate=0.001)\n",
    "\n",
    "model.compile(optimizer=custom_optimizer,loss='huber_loss') #configure model\n",
    "\n",
    "model.fit(training_data['inputs'],training_data['targets'],epochs =100,verbose=2) # iteration over full dataset -> Epoch\n",
    "#verbose = 0 , means stay silent "
   ]
  },
  {
   "cell_type": "markdown",
   "id": "8af5c9b3",
   "metadata": {},
   "source": [
    "# extract weights and bias\n"
   ]
  },
  {
   "cell_type": "code",
   "execution_count": 5,
   "id": "434da379",
   "metadata": {},
   "outputs": [],
   "source": [
    "weights =model.layers[0].get_weights()[0]\n",
    "bias =model.layers[0].get_weights()[1]"
   ]
  },
  {
   "cell_type": "code",
   "execution_count": 6,
   "id": "04b29bea",
   "metadata": {},
   "outputs": [
    {
     "name": "stdout",
     "output_type": "stream",
     "text": [
      "WARNING:tensorflow:AutoGraph could not transform <bound method Layer.__call__ of <tensorflow.python.keras.engine.sequential.Sequential object at 0x000001D7224D04A8>> and will run it as-is.\n",
      "Please report this to the TensorFlow team. When filing the bug, set the verbosity to 10 (on Linux, `export AUTOGRAPH_VERBOSITY=10`) and attach the full output.\n",
      "Cause: No module named 'tensorflow_core.estimator'\n",
      "WARNING: AutoGraph could not transform <bound method Layer.__call__ of <tensorflow.python.keras.engine.sequential.Sequential object at 0x000001D7224D04A8>> and will run it as-is.\n",
      "Please report this to the TensorFlow team. When filing the bug, set the verbosity to 10 (on Linux, `export AUTOGRAPH_VERBOSITY=10`) and attach the full output.\n",
      "Cause: No module named 'tensorflow_core.estimator'\n"
     ]
    },
    {
     "data": {
      "text/plain": [
       "array([[ 47.2],\n",
       "       [ 15. ],\n",
       "       [-32.7],\n",
       "       ...,\n",
       "       [  1.4],\n",
       "       [ 62.3],\n",
       "       [-28.1]], dtype=float32)"
      ]
     },
     "execution_count": 6,
     "metadata": {},
     "output_type": "execute_result"
    }
   ],
   "source": [
    "predictions=model.predict_on_batch(training_data['inputs'])\n",
    "predictions_rounded = np.round(predictions,1)\n",
    "predictions_rounded"
   ]
  },
  {
   "cell_type": "code",
   "execution_count": 7,
   "id": "0f154204",
   "metadata": {},
   "outputs": [
    {
     "data": {
      "text/plain": [
       "array([[ 48.],\n",
       "       [ 15.],\n",
       "       [-33.],\n",
       "       ...,\n",
       "       [  1.],\n",
       "       [ 63.],\n",
       "       [-27.]])"
      ]
     },
     "execution_count": 7,
     "metadata": {},
     "output_type": "execute_result"
    }
   ],
   "source": [
    "np.round(training_data['targets'])"
   ]
  },
  {
   "cell_type": "markdown",
   "id": "056ce43a",
   "metadata": {},
   "source": [
    "## plotting the outputs vs target\n"
   ]
  },
  {
   "cell_type": "code",
   "execution_count": 8,
   "id": "3d94be25",
   "metadata": {},
   "outputs": [
    {
     "data": {
      "image/png": "[encoded data removed]",
      "text/plain": [
       "<Figure size 432x288 with 1 Axes>"
      ]
     },
     "metadata": {
      "needs_background": "light"
     },
     "output_type": "display_data"
    }
   ],
   "source": [
    "plt.plot(np.squeeze(model.predict_on_batch(training_data['inputs'])),np.squeeze(training_data['targets']))\n",
    "plt.xlabel('outputs')\n",
    "plt.ylabel('targets')\n",
    "plt.show()"
   ]
  },
  {
   "cell_type": "markdown",
   "id": "e9934b36",
   "metadata": {},
   "source": []
  }
 ],
 "metadata": {
  "kernelspec": {
   "display_name": "Python [conda env:py36]",
   "language": "python",
   "name": "conda-env-py36-py"
  },
  "language_info": {
   "codemirror_mode": {
    "name": "ipython",
    "version": 3
   },
   "file_extension": ".py",
   "mimetype": "text/x-python",
   "name": "python",
   "nbconvert_exporter": "python",
   "pygments_lexer": "ipython3",
   "version": "3.6.13"
  }
 },
 "nbformat": 4,
 "nbformat_minor": 5
}
