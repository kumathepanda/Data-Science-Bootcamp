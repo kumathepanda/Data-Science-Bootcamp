{
 "cells": [
  {
   "cell_type": "markdown",
   "id": "dcb80091",
   "metadata": {},
   "source": [
    "## Train Test Split"
   ]
  },
  {
   "cell_type": "code",
   "execution_count": 1,
   "id": "e15362b6",
   "metadata": {},
   "outputs": [],
   "source": [
    "import numpy as np\n",
    "from sklearn.model_selection import train_test_split"
   ]
  },
  {
   "cell_type": "markdown",
   "id": "e4d13f6b",
   "metadata": {},
   "source": [
    "# Generate some data we are going to split"
   ]
  },
  {
   "cell_type": "code",
   "execution_count": 2,
   "id": "2f943e4f",
   "metadata": {},
   "outputs": [],
   "source": [
    "a = np.arange(1,101)"
   ]
  },
  {
   "cell_type": "code",
   "execution_count": 3,
   "id": "4c003bc9",
   "metadata": {},
   "outputs": [
    {
     "data": {
      "text/plain": [
       "array([  1,   2,   3,   4,   5,   6,   7,   8,   9,  10,  11,  12,  13,\n",
       "        14,  15,  16,  17,  18,  19,  20,  21,  22,  23,  24,  25,  26,\n",
       "        27,  28,  29,  30,  31,  32,  33,  34,  35,  36,  37,  38,  39,\n",
       "        40,  41,  42,  43,  44,  45,  46,  47,  48,  49,  50,  51,  52,\n",
       "        53,  54,  55,  56,  57,  58,  59,  60,  61,  62,  63,  64,  65,\n",
       "        66,  67,  68,  69,  70,  71,  72,  73,  74,  75,  76,  77,  78,\n",
       "        79,  80,  81,  82,  83,  84,  85,  86,  87,  88,  89,  90,  91,\n",
       "        92,  93,  94,  95,  96,  97,  98,  99, 100])"
      ]
     },
     "execution_count": 3,
     "metadata": {},
     "output_type": "execute_result"
    }
   ],
   "source": [
    "a"
   ]
  },
  {
   "cell_type": "code",
   "execution_count": 46,
   "id": "3ae8c9cf",
   "metadata": {},
   "outputs": [],
   "source": [
    "b = np.arange(501,601)"
   ]
  },
  {
   "cell_type": "code",
   "execution_count": 47,
   "id": "88a256ba",
   "metadata": {},
   "outputs": [
    {
     "data": {
      "text/plain": [
       "array([501, 502, 503, 504, 505, 506, 507, 508, 509, 510, 511, 512, 513,\n",
       "       514, 515, 516, 517, 518, 519, 520, 521, 522, 523, 524, 525, 526,\n",
       "       527, 528, 529, 530, 531, 532, 533, 534, 535, 536, 537, 538, 539,\n",
       "       540, 541, 542, 543, 544, 545, 546, 547, 548, 549, 550, 551, 552,\n",
       "       553, 554, 555, 556, 557, 558, 559, 560, 561, 562, 563, 564, 565,\n",
       "       566, 567, 568, 569, 570, 571, 572, 573, 574, 575, 576, 577, 578,\n",
       "       579, 580, 581, 582, 583, 584, 585, 586, 587, 588, 589, 590, 591,\n",
       "       592, 593, 594, 595, 596, 597, 598, 599, 600])"
      ]
     },
     "execution_count": 47,
     "metadata": {},
     "output_type": "execute_result"
    }
   ],
   "source": [
    "b"
   ]
  },
  {
   "cell_type": "code",
   "execution_count": 48,
   "id": "c89a6b05",
   "metadata": {},
   "outputs": [
    {
     "data": {
      "text/plain": [
       "[array([  1,  26,  28,  31,  57,  19,  81,  22,  34,  15,  72,  10,  17,\n",
       "         93,  70,  51,  37,  24,   7,  18,   2,  35,  39, 100,   5,  83,\n",
       "         54,  38,  25,  76,   4,  86,  79,  85,  47,  89,  64,  60,  90,\n",
       "         75,  49,  41,  82,  55,  32,  59,  68,  33,  30,  97,  87,  43,\n",
       "         42,  16,   9,  52,  69,  12,   3,  29,  66,  73,  27,  95,  14,\n",
       "         98,  96,  50,  67,  13,  58,  71,  74,   6,  84]),\n",
       " array([20, 56, 63, 48, 77,  8, 65, 11, 88, 92, 44, 80, 94, 21, 40, 46, 45,\n",
       "        99, 23, 36, 53, 91, 61, 62, 78]),\n",
       " array([501, 526, 528, 531, 557, 519, 581, 522, 534, 515, 572, 510, 517,\n",
       "        593, 570, 551, 537, 524, 507, 518, 502, 535, 539, 600, 505, 583,\n",
       "        554, 538, 525, 576, 504, 586, 579, 585, 547, 589, 564, 560, 590,\n",
       "        575, 549, 541, 582, 555, 532, 559, 568, 533, 530, 597, 587, 543,\n",
       "        542, 516, 509, 552, 569, 512, 503, 529, 566, 573, 527, 595, 514,\n",
       "        598, 596, 550, 567, 513, 558, 571, 574, 506, 584]),\n",
       " array([520, 556, 563, 548, 577, 508, 565, 511, 588, 592, 544, 580, 594,\n",
       "        521, 540, 546, 545, 599, 523, 536, 553, 591, 561, 562, 578])]"
      ]
     },
     "execution_count": 48,
     "metadata": {},
     "output_type": "execute_result"
    }
   ],
   "source": [
    "train_test_split(a,b)"
   ]
  },
  {
   "cell_type": "code",
   "execution_count": 55,
   "id": "778a164a",
   "metadata": {},
   "outputs": [],
   "source": [
    "a_train ,a_test,b_train,b_test = train_test_split(a,b,test_size=0.2,random_state=365) # a and b should have same size"
   ]
  },
  {
   "cell_type": "code",
   "execution_count": 56,
   "id": "1d5465b2",
   "metadata": {},
   "outputs": [
    {
     "data": {
      "text/plain": [
       "((80,), (20,))"
      ]
     },
     "execution_count": 56,
     "metadata": {},
     "output_type": "execute_result"
    }
   ],
   "source": [
    "a_train.shape,a_test.shape #80 - 20 train split"
   ]
  },
  {
   "cell_type": "code",
   "execution_count": 57,
   "id": "936b5e8c",
   "metadata": {},
   "outputs": [
    {
     "data": {
      "text/plain": [
       "array([ 25,  32,  99,  73,  91,  66,   3,  59,  94,   1,   8,  15,  90,\n",
       "        54,  31,  20,  77,  82,  30,  35,  95,  42,  38,   7,  11,  50,\n",
       "        21,  48,   2,  17,  10,  58,  68,  43,  41,  16,  88,  72,  79,\n",
       "       100,  80,  39,  24,  86,  22,  23,  62,  76,  18,  47,  55,  26,\n",
       "        60,  19,  71,  64,  51,  63,  65,  28,  12,  78,  13,  44,  75,\n",
       "        87,  40,   4,  29,  49,  37,  57,  27,  74,   6,  45,  92,  34,\n",
       "        53,  83])"
      ]
     },
     "execution_count": 57,
     "metadata": {},
     "output_type": "execute_result"
    }
   ],
   "source": [
    "a_train"
   ]
  },
  {
   "cell_type": "code",
   "execution_count": 58,
   "id": "3e7ccb17",
   "metadata": {},
   "outputs": [
    {
     "data": {
      "text/plain": [
       "array([ 9, 69, 81, 56, 33, 93, 84, 61, 46, 89, 85, 67, 97,  5, 70, 36, 98,\n",
       "       96, 14, 52])"
      ]
     },
     "execution_count": 58,
     "metadata": {},
     "output_type": "execute_result"
    }
   ],
   "source": [
    "a_test"
   ]
  },
  {
   "cell_type": "code",
   "execution_count": 59,
   "id": "b32e4536",
   "metadata": {},
   "outputs": [
    {
     "data": {
      "text/plain": [
       "array([525, 532, 599, 573, 591, 566, 503, 559, 594, 501, 508, 515, 590,\n",
       "       554, 531, 520, 577, 582, 530, 535, 595, 542, 538, 507, 511, 550,\n",
       "       521, 548, 502, 517, 510, 558, 568, 543, 541, 516, 588, 572, 579,\n",
       "       600, 580, 539, 524, 586, 522, 523, 562, 576, 518, 547, 555, 526,\n",
       "       560, 519, 571, 564, 551, 563, 565, 528, 512, 578, 513, 544, 575,\n",
       "       587, 540, 504, 529, 549, 537, 557, 527, 574, 506, 545, 592, 534,\n",
       "       553, 583])"
      ]
     },
     "execution_count": 59,
     "metadata": {},
     "output_type": "execute_result"
    }
   ],
   "source": [
    "b_train"
   ]
  },
  {
   "cell_type": "code",
   "execution_count": 60,
   "id": "ecb4017a",
   "metadata": {},
   "outputs": [
    {
     "data": {
      "text/plain": [
       "array([509, 569, 581, 556, 533, 593, 584, 561, 546, 589, 585, 567, 597,\n",
       "       505, 570, 536, 598, 596, 514, 552])"
      ]
     },
     "execution_count": 60,
     "metadata": {},
     "output_type": "execute_result"
    }
   ],
   "source": [
    "b_test"
   ]
  },
  {
   "cell_type": "code",
   "execution_count": null,
   "id": "20757efb",
   "metadata": {},
   "outputs": [],
   "source": []
  }
 ],
 "metadata": {
  "kernelspec": {
   "display_name": "Python 3 (ipykernel)",
   "language": "python",
   "name": "python3"
  },
  "language_info": {
   "codemirror_mode": {
    "name": "ipython",
    "version": 3
   },
   "file_extension": ".py",
   "mimetype": "text/x-python",
   "name": "python",
   "nbconvert_exporter": "python",
   "pygments_lexer": "ipython3",
   "version": "3.11.7"
  }
 },
 "nbformat": 4,
 "nbformat_minor": 5
}
