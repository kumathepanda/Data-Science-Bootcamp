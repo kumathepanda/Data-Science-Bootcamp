{
 "cells": [
  {
   "cell_type": "code",
   "execution_count": 1,
   "id": "94d71abc",
   "metadata": {},
   "outputs": [],
   "source": [
    "import numpy as np\n",
    "import tensorflow as tf"
   ]
  },
  {
   "cell_type": "code",
   "execution_count": 5,
   "id": "97b08c8a",
   "metadata": {},
   "outputs": [],
   "source": [
    "npz = np.load('Audiobooks_data_train.npz')\n",
    "\n",
    "train_inputs = npz['inputs'].astype(np.float)\n",
    "train_targets = npz['targets'].astype(np.int)\n",
    "\n",
    "npz = np.load('Audiobooks_data_validation.npz')\n",
    "\n",
    "validation_inputs,validation_targets = npz['inputs'].astype(np.float),npz['targets'].astype(np.int)\n",
    "\n",
    "\n",
    "npz = np.load('Audiobooks_data_test.npz')\n",
    "\n",
    "test_inputs,test_targets = npz['inputs'].astype(np.float),npz['targets'].astype(np.int)"
   ]
  },
  {
   "cell_type": "code",
   "execution_count": 21,
   "id": "3fa9796d",
   "metadata": {},
   "outputs": [
    {
     "name": "stdout",
     "output_type": "stream",
     "text": [
      "Epoch 1/100\n",
      "36/36 - 0s - loss: 0.5747 - accuracy: 0.7058 - val_loss: 0.4911 - val_accuracy: 0.7562\n",
      "Epoch 2/100\n",
      "36/36 - 0s - loss: 0.4605 - accuracy: 0.7569 - val_loss: 0.4309 - val_accuracy: 0.7450\n",
      "Epoch 3/100\n",
      "36/36 - 0s - loss: 0.4145 - accuracy: 0.7787 - val_loss: 0.3945 - val_accuracy: 0.7830\n",
      "Epoch 4/100\n",
      "36/36 - 0s - loss: 0.3879 - accuracy: 0.7907 - val_loss: 0.3839 - val_accuracy: 0.7808\n",
      "Epoch 5/100\n",
      "36/36 - 0s - loss: 0.3727 - accuracy: 0.8033 - val_loss: 0.3660 - val_accuracy: 0.8009\n",
      "Epoch 6/100\n",
      "36/36 - 0s - loss: 0.3631 - accuracy: 0.8039 - val_loss: 0.3624 - val_accuracy: 0.8166\n",
      "Epoch 7/100\n",
      "36/36 - 0s - loss: 0.3553 - accuracy: 0.8111 - val_loss: 0.3596 - val_accuracy: 0.8009\n",
      "Epoch 8/100\n",
      "36/36 - 0s - loss: 0.3517 - accuracy: 0.8108 - val_loss: 0.3725 - val_accuracy: 0.8031\n",
      "Epoch 9/100\n",
      "36/36 - 0s - loss: 0.3464 - accuracy: 0.8117 - val_loss: 0.3428 - val_accuracy: 0.8255\n",
      "Epoch 10/100\n",
      "36/36 - 0s - loss: 0.3408 - accuracy: 0.8111 - val_loss: 0.3473 - val_accuracy: 0.8031\n",
      "Epoch 11/100\n",
      "36/36 - 0s - loss: 0.3389 - accuracy: 0.8148 - val_loss: 0.3412 - val_accuracy: 0.8098\n",
      "Epoch 12/100\n",
      "36/36 - 0s - loss: 0.3396 - accuracy: 0.8145 - val_loss: 0.3569 - val_accuracy: 0.8009\n",
      "Epoch 13/100\n",
      "36/36 - 0s - loss: 0.3330 - accuracy: 0.8173 - val_loss: 0.3414 - val_accuracy: 0.8054\n"
     ]
    },
    {
     "data": {
      "text/plain": [
       "<keras.callbacks.History at 0x2428f83f9e8>"
      ]
     },
     "execution_count": 21,
     "metadata": {},
     "output_type": "execute_result"
    }
   ],
   "source": [
    "# Set the input and output sizes\n",
    "input_size = 10\n",
    "output_size = 2\n",
    "# Use same hidden layer size for both hidden layers. Not a necessity.\n",
    "hidden_layer_size = 50\n",
    "    \n",
    "# define how the model will look like\n",
    "model = tf.keras.Sequential([\n",
    "    # tf.keras.layers.Dense is basically implementing: output = activation(dot(input, weight) + bias)\n",
    "    # it takes several arguments, but the most important ones for us are the hidden_layer_size and the activation function\n",
    "    tf.keras.layers.Dense(hidden_layer_size, activation='relu'), # 1st hidden layer\n",
    "    tf.keras.layers.Dense(hidden_layer_size, activation='relu'), # 2nd hidden layer\n",
    "    # the final layer is no different, we just make sure to activate it with softmax\n",
    "    tf.keras.layers.Dense(output_size, activation='softmax') # output layer\n",
    "])\n",
    "\n",
    "\n",
    "### Choose the optimizer and the loss function\n",
    "\n",
    "# we define the optimizer we'd like to use, \n",
    "# the loss function, \n",
    "# and the metrics we are interested in obtaining at each iteration\n",
    "model.compile(optimizer='adam', loss='sparse_categorical_crossentropy', metrics=['accuracy'])\n",
    "\n",
    "### Training\n",
    "# That's where we train the model we have built.\n",
    "\n",
    "# set the batch size\n",
    "batch_size = 100\n",
    "\n",
    "# set a maximum number of training epochs\n",
    "max_epochs = 100\n",
    "\n",
    "# set an early stopping mechanism\n",
    "# let's set patience=2, to be a bit tolerant against random validation loss increases\n",
    "early_stopping = tf.keras.callbacks.EarlyStopping(patience=2)\n",
    "\n",
    "# fit the model\n",
    "# note that this time the train, validation and test data are not iterable\n",
    "model.fit(train_inputs, # train inputs\n",
    "          train_targets, # train targets\n",
    "          batch_size=batch_size, # batch size\n",
    "          epochs=max_epochs, # epochs that we will train for (assuming early stopping doesn't kick in)\n",
    "          # callbacks are functions called by a task when a task is completed\n",
    "          # task here is to check if val_loss is increasing\n",
    "          callbacks=[early_stopping], # early stopping\n",
    "          validation_data=(validation_inputs, validation_targets), # validation data\n",
    "          verbose = 2 # making sure we get enough information about the training process\n",
    "          )  "
   ]
  },
  {
   "cell_type": "code",
   "execution_count": 23,
   "id": "e258aac2",
   "metadata": {},
   "outputs": [
    {
     "name": "stdout",
     "output_type": "stream",
     "text": [
      "14/14 [==============================] - 0s 1ms/step - loss: 0.3377 - accuracy: 0.8170\n"
     ]
    }
   ],
   "source": [
    "test_loss,test_accuracy=model.evaluate(test_inputs,test_targets)"
   ]
  },
  {
   "cell_type": "code",
   "execution_count": 24,
   "id": "065f5634",
   "metadata": {},
   "outputs": [
    {
     "name": "stdout",
     "output_type": "stream",
     "text": [
      "Test loss: 0.34. Test accuracy 81.70%\n"
     ]
    }
   ],
   "source": [
    "print('Test loss: {0:.2f}. Test accuracy {1:.2f}%'.format(test_loss,test_accuracy*100.))"
   ]
  },
  {
   "cell_type": "code",
   "execution_count": null,
   "id": "4b0023be",
   "metadata": {},
   "outputs": [],
   "source": []
  }
 ],
 "metadata": {
  "kernelspec": {
   "display_name": "Python [conda env:py36]",
   "language": "python",
   "name": "conda-env-py36-py"
  },
  "language_info": {
   "codemirror_mode": {
    "name": "ipython",
    "version": 3
   },
   "file_extension": ".py",
   "mimetype": "text/x-python",
   "name": "python",
   "nbconvert_exporter": "python",
   "pygments_lexer": "ipython3",
   "version": "3.6.13"
  }
 },
 "nbformat": 4,
 "nbformat_minor": 5
}
